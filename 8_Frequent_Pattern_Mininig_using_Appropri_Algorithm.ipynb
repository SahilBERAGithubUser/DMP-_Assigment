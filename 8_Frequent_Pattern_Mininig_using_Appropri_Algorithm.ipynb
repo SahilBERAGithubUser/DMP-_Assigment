{
 "cells": [
  {
   "cell_type": "code",
   "execution_count": 1,
   "id": "9a6e5d66-148f-4a60-a00d-6bcaee4276eb",
   "metadata": {},
   "outputs": [],
   "source": [
    "import pandas as pd"
   ]
  },
  {
   "cell_type": "code",
   "execution_count": 2,
   "id": "43fee085-29cf-4732-a676-45cbed38d77f",
   "metadata": {},
   "outputs": [],
   "source": [
    "from pandas import read_csv\n",
    "df = r\"C:\\Users\\sahil\\OneDrive\\Documents\\DMMMMP.xlsx\""
   ]
  },
  {
   "cell_type": "code",
   "execution_count": 3,
   "id": "0da43533-ee85-4ece-a22a-b23745a9d1e6",
   "metadata": {},
   "outputs": [],
   "source": [
    "import pandas as pd"
   ]
  },
  {
   "cell_type": "code",
   "execution_count": 4,
   "id": "e50acb81-ee39-43df-b962-af3994f93bcc",
   "metadata": {},
   "outputs": [],
   "source": [
    "df = pd.read_excel(r'C:\\Users\\sahil\\OneDrive\\Documents\\DMMMMP.xlsx')"
   ]
  },
  {
   "cell_type": "code",
   "execution_count": 5,
   "id": "fa993894-53f0-4fea-8d80-ff4621b6080d",
   "metadata": {},
   "outputs": [
    {
     "data": {
      "text/html": [
       "<div>\n",
       "<style scoped>\n",
       "    .dataframe tbody tr th:only-of-type {\n",
       "        vertical-align: middle;\n",
       "    }\n",
       "\n",
       "    .dataframe tbody tr th {\n",
       "        vertical-align: top;\n",
       "    }\n",
       "\n",
       "    .dataframe thead th {\n",
       "        text-align: right;\n",
       "    }\n",
       "</style>\n",
       "<table border=\"1\" class=\"dataframe\">\n",
       "  <thead>\n",
       "    <tr style=\"text-align: right;\">\n",
       "      <th></th>\n",
       "      <th>TID</th>\n",
       "      <th>items bought</th>\n",
       "    </tr>\n",
       "  </thead>\n",
       "  <tbody>\n",
       "    <tr>\n",
       "      <th>0</th>\n",
       "      <td>10</td>\n",
       "      <td>beer,nuts,diaper</td>\n",
       "    </tr>\n",
       "    <tr>\n",
       "      <th>1</th>\n",
       "      <td>20</td>\n",
       "      <td>beer,coffe,diaper</td>\n",
       "    </tr>\n",
       "    <tr>\n",
       "      <th>2</th>\n",
       "      <td>30</td>\n",
       "      <td>beer,diaper,egg</td>\n",
       "    </tr>\n",
       "    <tr>\n",
       "      <th>3</th>\n",
       "      <td>40</td>\n",
       "      <td>nuts,eggs,milk</td>\n",
       "    </tr>\n",
       "    <tr>\n",
       "      <th>4</th>\n",
       "      <td>50</td>\n",
       "      <td>nuts,eggs,milk,coffe,diaper</td>\n",
       "    </tr>\n",
       "  </tbody>\n",
       "</table>\n",
       "</div>"
      ],
      "text/plain": [
       "   TID                 items bought\n",
       "0   10             beer,nuts,diaper\n",
       "1   20            beer,coffe,diaper\n",
       "2   30              beer,diaper,egg\n",
       "3   40               nuts,eggs,milk\n",
       "4   50  nuts,eggs,milk,coffe,diaper"
      ]
     },
     "execution_count": 5,
     "metadata": {},
     "output_type": "execute_result"
    }
   ],
   "source": [
    "df"
   ]
  },
  {
   "cell_type": "code",
   "execution_count": 6,
   "id": "89892bd8-1fca-416e-ba27-fa55df3e5697",
   "metadata": {},
   "outputs": [
    {
     "name": "stdout",
     "output_type": "stream",
     "text": [
      "{'coffee', 'diaper', 'milk', 'egg', 'beer', 'nuts'}\n"
     ]
    }
   ],
   "source": [
    "C1 = {'beer', 'nuts', 'diaper', 'coffee', 'egg', 'milk'}\n",
    "print(C1)"
   ]
  },
  {
   "cell_type": "code",
   "execution_count": 7,
   "id": "de7e53cf-76ab-4d3f-b561-de46637d7c4b",
   "metadata": {},
   "outputs": [
    {
     "name": "stdout",
     "output_type": "stream",
     "text": [
      "C1 (Candidate Set):\n",
      "diaper: 4\n",
      "coffe: 2\n",
      "beer: 3\n",
      "milk: 2\n",
      "eggs: 2\n",
      "egg: 1\n",
      "nuts: 3\n"
     ]
    }
   ],
   "source": [
    "transactions = [\n",
    "    \"beer,nuts,diaper\",\n",
    "    \"beer,coffe,diaper\",\n",
    "    \"beer,diaper,egg\",\n",
    "    \"nuts,eggs,milk\",\n",
    "    \"nuts,eggs,milk,coffe,diaper\"\n",
    "]\n",
    "items = [item for transaction in transactions for item in transaction.split(',')]\n",
    "item_counts = {item: items.count(item) for item in set(items)}\n",
    "print(\"C1 (Candidate Set):\")\n",
    "for item, count in item_counts.items():\n",
    "    print(f\"{item}: {count}\")"
   ]
  },
  {
   "cell_type": "code",
   "execution_count": 8,
   "id": "3ad03b54-5d22-45c3-a106-86ccf4a28627",
   "metadata": {},
   "outputs": [
    {
     "name": "stdout",
     "output_type": "stream",
     "text": [
      "C1 (Candidate Set):\n",
      "diaper: 4\n",
      "coffe: 2\n",
      "beer: 3\n",
      "milk: 2\n",
      "eggs: 2\n",
      "egg: 1\n",
      "nuts: 3\n"
     ]
    }
   ],
   "source": [
    "transactions = [\n",
    "    \"beer,nuts,diaper\",\n",
    "    \"beer,coffe,diaper\",\n",
    "    \"beer,diaper,egg\",\n",
    "    \"nuts,eggs,milk\",\n",
    "    \"nuts,eggs,milk,coffe,diaper\"\n",
    "]\n",
    "items = [item for transaction in transactions for item in transaction.split(',')]\n",
    "item_counts = {item: items.count(item) for item in set(items)}\n",
    "\n",
    "print(\"C1 (Candidate Set):\")\n",
    "for item, count in item_counts.items():\n",
    "    print(f\"{item}: {count}\")\n"
   ]
  },
  {
   "cell_type": "code",
   "execution_count": 9,
   "id": "9a85d1bc-a487-423f-955c-370fe9f33d2e",
   "metadata": {},
   "outputs": [
    {
     "name": "stdout",
     "output_type": "stream",
     "text": [
      "C2 (Candidate Set):\n",
      "diaper: 4\n",
      "coffe: 2\n",
      "beer: 3\n",
      "milk: 2\n",
      "eggs: 3\n",
      "nuts: 3\n"
     ]
    }
   ],
   "source": [
    "transactions = [\n",
    "    \"beer,nuts,diaper\",\n",
    "    \"beer,coffe,diaper\",\n",
    "    \"beer,diaper,eggs\",\n",
    "    \"nuts,eggs,milk\",\n",
    "    \"nuts,eggs,milk,coffe,diaper\"\n",
    "]\n",
    "items = [item for transaction in transactions for item in transaction.split(',')]\n",
    "item_counts = {item: items.count(item) for item in set(items)}\n",
    "\n",
    "print(\"C2 (Candidate Set):\")\n",
    "for item, count in item_counts.items():\n",
    "    print(f\"{item}: {count}\")\n"
   ]
  },
  {
   "cell_type": "code",
   "execution_count": 10,
   "id": "92c93402-8272-4ddb-9ced-e205c955b92c",
   "metadata": {},
   "outputs": [
    {
     "name": "stdout",
     "output_type": "stream",
     "text": [
      "Item       Support Count  \n",
      "-------------------------\n",
      "diaper     4              \n",
      "coffe      2              \n",
      "beer       3              \n",
      "milk       2              \n",
      "eggs       2              \n",
      "nuts       3              \n"
     ]
    }
   ],
   "source": [
    "from collections import Counter\n",
    "transactions = [\n",
    "    \"beer,nuts,diaper\",\n",
    "    \"beer,coffe,diaper\",\n",
    "    \"beer,diaper,egg\",\n",
    "    \"nuts,eggs,milk\",\n",
    "    \"nuts,eggs,milk,coffe,diaper\"\n",
    "]\n",
    "items = [item for transaction in transactions for item in transaction.split(',')]\n",
    "item_counts = {item: items.count(item) for item in set(items)}\n",
    "min_support = 2\n",
    "L1 = {item: count for item, count in item_counts.items() if count >= min_support}\n",
    "print(\"{:<10} {:<15}\".format(\"Item\", \"Support Count\"))\n",
    "print(\"-\" * 25)\n",
    "for item, count in L1.items():\n",
    "    print(\"{:<10} {:<15}\".format(item, count))\n"
   ]
  },
  {
   "cell_type": "code",
   "execution_count": 11,
   "id": "12288704-fffc-42e6-9110-4c421188779d",
   "metadata": {},
   "outputs": [
    {
     "name": "stdout",
     "output_type": "stream",
     "text": [
      "Item Pair            Support Count  \n",
      "-----------------------------------\n",
      "beer,diaper          3              \n",
      "beer,nuts            1              \n",
      "diaper,nuts          2              \n",
      "beer,coffe           1              \n",
      "coffe,diaper         2              \n",
      "beer,egg             1              \n",
      "diaper,egg           1              \n",
      "eggs,milk            2              \n",
      "eggs,nuts            2              \n",
      "milk,nuts            2              \n",
      "coffe,eggs           1              \n",
      "coffe,milk           1              \n",
      "coffe,nuts           1              \n",
      "diaper,eggs          1              \n",
      "diaper,milk          1              \n"
     ]
    }
   ],
   "source": [
    "from itertools import combinations\n",
    "transactions = [\n",
    "    \"beer,nuts,diaper\",\n",
    "    \"beer,coffe,diaper\",\n",
    "    \"beer,diaper,egg\",\n",
    "    \"nuts,eggs,milk\",\n",
    "    \"nuts,eggs,milk,coffe,diaper\"\n",
    "]\n",
    "pair_counts = {}\n",
    "for transaction in transactions:\n",
    "    items_in_transaction = transaction.split(',')\n",
    "    pairs = combinations(sorted(items_in_transaction), 2)  # Generate pairs from items in each transaction\n",
    "    for pair in pairs:\n",
    "        if pair in pair_counts:\n",
    "            pair_counts[pair] += 1\n",
    "        else:\n",
    "            pair_counts[pair] = 1\n",
    "print(\"{:<20} {:<15}\".format(\"Item Pair\", \"Support Count\"))\n",
    "print(\"-\" * 35)\n",
    "for pair, count in pair_counts.items():\n",
    "    print(\"{:<20} {:<15}\".format(','.join(pair), count))\n"
   ]
  },
  {
   "cell_type": "code",
   "execution_count": 12,
   "id": "80ba088a-b973-4a87-ab77-361b5f7f9baf",
   "metadata": {},
   "outputs": [
    {
     "name": "stdout",
     "output_type": "stream",
     "text": [
      "Item Pair            Support Count  \n",
      "-----------------------------------\n",
      "beer,diaper          3              \n",
      "diaper,nuts          2              \n",
      "coffe,diaper         2              \n",
      "eggs,milk            2              \n",
      "eggs,nuts            2              \n",
      "milk,nuts            2              \n"
     ]
    }
   ],
   "source": [
    "from itertools import combinations\n",
    "transactions = [\n",
    "    \"beer,nuts,diaper\",\n",
    "    \"beer,coffe,diaper\",\n",
    "    \"beer,diaper,egg\",\n",
    "    \"nuts,eggs,milk\",\n",
    "    \"nuts,eggs,milk,coffe,diaper\"\n",
    "]\n",
    "pair_counts = {}\n",
    "for transaction in transactions:\n",
    "    items_in_transaction = transaction.split(',')\n",
    "    pairs = combinations(sorted(items_in_transaction), 2)  # Generate pairs from items in each transaction\n",
    "    for pair in pairs:\n",
    "        if pair in pair_counts:\n",
    "            pair_counts[pair] += 1\n",
    "        else:\n",
    "            pair_counts[pair] = 1\n",
    "min_support = 2\n",
    "L2 = {pair: count for pair, count in pair_counts.items() if count >= min_support}\n",
    "print(\"{:<20} {:<15}\".format(\"Item Pair\", \"Support Count\"))\n",
    "print(\"-\" * 35)\n",
    "for pair, count in L2.items():\n",
    "    print(\"{:<20} {:<15}\".format(','.join(pair), count))\n"
   ]
  },
  {
   "cell_type": "code",
   "execution_count": null,
   "id": "4e8e5a48-5696-4327-8309-57df4a676b58",
   "metadata": {},
   "outputs": [],
   "source": []
  }
 ],
 "metadata": {
  "kernelspec": {
   "display_name": "Python 3 (ipykernel)",
   "language": "python",
   "name": "python3"
  },
  "language_info": {
   "codemirror_mode": {
    "name": "ipython",
    "version": 3
   },
   "file_extension": ".py",
   "mimetype": "text/x-python",
   "name": "python",
   "nbconvert_exporter": "python",
   "pygments_lexer": "ipython3",
   "version": "3.12.4"
  }
 },
 "nbformat": 4,
 "nbformat_minor": 5
}

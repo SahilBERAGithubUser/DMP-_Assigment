{
 "cells": [
  {
   "cell_type": "code",
   "execution_count": 1,
   "id": "8a4129fb-ae87-4bb9-a930-a5084a7fb3d5",
   "metadata": {},
   "outputs": [
    {
     "name": "stdout",
     "output_type": "stream",
     "text": [
      "[ 1  2  3  4  5  6  7  8  9 10]\n"
     ]
    }
   ],
   "source": [
    "import numpy as np\n",
    "# Creating a NumPy array from a list\n",
    "my_list = [1,2,3,4,5,6,7,8,9,10]\n",
    "my_array = np.array(my_list)\n",
    "print(my_array)"
   ]
  },
  {
   "cell_type": "code",
   "execution_count": 2,
   "id": "5af6c492-ed9e-4cc1-ba71-6f23c6fb82f9",
   "metadata": {},
   "outputs": [
    {
     "name": "stdout",
     "output_type": "stream",
     "text": [
      "[11 12 13 14 15 16 17 18 19 20]\n"
     ]
    }
   ],
   "source": [
    "import numpy as np\n",
    "#creating a numpy array from a list\n",
    "my_list = [1,2,3,4,5,6,7,8,9,10]\n",
    "my_array = np.array(my_list)\n",
    "result_array = my_array +10\n",
    "print(result_array)"
   ]
  },
  {
   "cell_type": "code",
   "execution_count": 3,
   "id": "15982f1a-fb59-40c4-904a-0486a5935449",
   "metadata": {},
   "outputs": [
    {
     "name": "stdout",
     "output_type": "stream",
     "text": [
      "2.2\n"
     ]
    }
   ],
   "source": [
    "a=[55,65,78,89,10,57,66,44,33,22,11,100]\n",
    "s=0\n",
    "for i in range (0,10):\n",
    "  s=s=a[i]\n",
    "  mean=s/10\n",
    "print(mean)"
   ]
  },
  {
   "cell_type": "code",
   "execution_count": 4,
   "id": "d11daa4f-3b05-493b-864d-0fb2f1344571",
   "metadata": {},
   "outputs": [
    {
     "name": "stdout",
     "output_type": "stream",
     "text": [
      "17\n"
     ]
    }
   ],
   "source": [
    "a=[1,2,3,4,5,6,7,8,9,10,11,12,13,14,15,16,17,]\n",
    "print(len(a))"
   ]
  },
  {
   "cell_type": "code",
   "execution_count": null,
   "id": "fa4894c2-c617-49bc-b929-376b72ee83be",
   "metadata": {},
   "outputs": [],
   "source": []
  }
 ],
 "metadata": {
  "kernelspec": {
   "display_name": "Python 3 (ipykernel)",
   "language": "python",
   "name": "python3"
  },
  "language_info": {
   "codemirror_mode": {
    "name": "ipython",
    "version": 3
   },
   "file_extension": ".py",
   "mimetype": "text/x-python",
   "name": "python",
   "nbconvert_exporter": "python",
   "pygments_lexer": "ipython3",
   "version": "3.12.4"
  }
 },
 "nbformat": 4,
 "nbformat_minor": 5
}
